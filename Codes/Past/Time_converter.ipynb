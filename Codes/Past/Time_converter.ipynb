{
 "cells": [
  {
   "cell_type": "markdown",
   "metadata": {},
   "source": [
    "# **Files processing**"
   ]
  },
  {
   "cell_type": "code",
   "execution_count": null,
   "metadata": {},
   "outputs": [],
   "source": [
    "\"\"\"\n",
    "This file have a programming code for organize, edit and process the original files, both raw (obtained in soho web page) and processing (of ESA web page) are in .txt but are converted in .parquet for to have a better performance in the analisys of dataset\n",
    "\"\"\""
   ]
  },
  {
   "cell_type": "markdown",
   "metadata": {},
   "source": [
    "## **Importing files and libraries**"
   ]
  },
  {
   "cell_type": "markdown",
   "metadata": {},
   "source": [
    "### Libraries"
   ]
  },
  {
   "cell_type": "code",
   "execution_count": 2,
   "metadata": {},
   "outputs": [],
   "source": [
    "# For Data\n",
    "import os\n",
    "import pandas as pd\n",
    "import numpy as np\n",
    "from datetime import datetime"
   ]
  },
  {
   "cell_type": "markdown",
   "metadata": {},
   "source": [
    "### Files"
   ]
  },
  {
   "cell_type": "code",
   "execution_count": 3,
   "metadata": {},
   "outputs": [
    {
     "name": "stdout",
     "output_type": "stream",
     "text": [
      "Actual Directory: d:\\lenovo\\Documents\\GitHub\\Energy-and-linear-momentum-change-exerted-by-the-solar-wind-for-applications-in-electric-solar-sails\\Codes\\Past\n",
      "New Directory: d:\\lenovo\\Documents\\GitHub\\Energy-and-linear-momentum-change-exerted-by-the-solar-wind-for-applications-in-electric-solar-sails\n"
     ]
    }
   ],
   "source": [
    "# Directory files\n",
    "\n",
    "# Only update once\n",
    "\n",
    "print(\"Actual Directory:\", os.getcwd())\n",
    "\n",
    "# Change path a main folder\n",
    "os.chdir('../..')\n",
    "\n",
    "print(\"New Directory:\", os.getcwd())\n",
    "#Directory: \"\\GitHub\\Energy-and-linear-momentum-change-exerted-by-the-solar-wind-for-applications-in-electric-solar-sails\""
   ]
  },
  {
   "cell_type": "code",
   "execution_count": 4,
   "metadata": {},
   "outputs": [],
   "source": [
    "#Function for simply the files load\n",
    "def dir(r_or_p, year):\n",
    "    rp = (\"Raw\", \"Calibrated\",)\n",
    "    r_or_p = r_or_p.strip().capitalize()\n",
    "    if r_or_p not in rp: #Validate data\n",
    "        raise NameError(\"Only Raw or Processed\")\n",
    "\n",
    "    if r_or_p == rp[0]:\n",
    "      dir = f\"Data/Raw/{year} Raw data.txt\"\n",
    "      return dir\n",
    "\n",
    "    else:\n",
    "      dir = f\"Data/Processing/{year} final.txt\"\n",
    "\n",
    "      return dir"
   ]
  },
  {
   "cell_type": "code",
   "execution_count": 5,
   "metadata": {},
   "outputs": [
    {
     "data": {
      "text/plain": [
       "[1998, 2003, 2008, 2013, 2018, 2023]"
      ]
     },
     "execution_count": 5,
     "metadata": {},
     "output_type": "execute_result"
    }
   ],
   "source": [
    "#Years that have a analysis\n",
    "i_year = 1998\n",
    "f_year = 2023\n",
    "step_year = 5\n",
    "other_year = 2000\n",
    "\n",
    "years = [year for year in range(i_year, f_year + step_year, step_year)] #+ [other_year]\n",
    "\n",
    "years.sort()\n",
    "\n",
    "years"
   ]
  },
  {
   "cell_type": "markdown",
   "metadata": {},
   "source": [
    "#### Raw data"
   ]
  },
  {
   "cell_type": "code",
   "execution_count": 6,
   "metadata": {},
   "outputs": [
    {
     "data": {
      "text/plain": [
       "{1998:         YY  MON  DY  DOY:HH:MM:SS  SPEED     Np  Vth  N/S  V_He  GSE_X  GSE_Y  \\\n",
       " 0       98  Jan   1  001:00:00:30    361  10.08   32 -0.5   370  232.1  -93.4   \n",
       " 1       98  Jan   1  001:00:01:00    358  10.21   31  0.0   366  232.1  -93.4   \n",
       " 2       98  Jan   1  001:00:01:30    362  10.08   32 -0.0   371  232.1  -93.4   \n",
       " 3       98  Jan   1  001:00:02:00    360  10.09   32 -0.3   369  232.1  -93.4   \n",
       " 4       98  Jan   1  001:00:02:30    358  10.71   30 -0.7   366  232.1  -93.4   \n",
       " ...     ..  ...  ..           ...    ...    ...  ...  ...   ...    ...    ...   \n",
       " 619716  98  Dec  21  355:17:27:16    318  13.51   23  5.3   320  233.8  -91.2   \n",
       " 619717  98  Dec  21  355:17:27:46    317  13.47   23  5.1   320  233.8  -91.2   \n",
       " 619718  98  Dec  21  355:17:28:16    319  13.08   23  5.1   322  233.8  -91.2   \n",
       " 619719  98  Dec  21  355:17:28:46    319  11.60   23  5.0   322  233.8  -91.2   \n",
       " 619720  98  Dec  21  355:17:29:16    324  10.40   23  4.5   327  233.8  -91.2   \n",
       " \n",
       "         GSE_Z  RANGE  HGLAT  HGLONG  CRN(E)  \n",
       " 0       -10.8  145.6   -3.1   283.4    1931  \n",
       " 1       -10.8  145.6   -3.1   283.4    1931  \n",
       " 2       -10.8  145.6   -3.1   283.4    1931  \n",
       " 3       -10.8  145.6   -3.1   283.4    1931  \n",
       " 4       -10.8  145.6   -3.1   283.4    1931  \n",
       " ...       ...    ...    ...     ...     ...  \n",
       " 619716  -11.4  145.7   -1.8   281.2    1944  \n",
       " 619717  -11.4  145.7   -1.8   281.2    1944  \n",
       " 619718  -11.4  145.7   -1.8   281.2    1944  \n",
       " 619719  -11.4  145.7   -1.8   281.2    1944  \n",
       " 619720  -11.4  145.7   -1.8   281.2    1944  \n",
       " \n",
       " [619721 rows x 16 columns],\n",
       " 2003:          YY  MON  DY  DOY:HH:MM:SS  SPEED    Np  Vth  N/S  V_He  GSE_X  GSE_Y  \\\n",
       " 0         3  Jan   1  001:00:00:15    407  5.38   33 -1.6   418  194.3  -31.8   \n",
       " 1         3  Jan   1  001:00:00:45    404  5.57   32 -2.2   414  194.3  -31.8   \n",
       " 2         3  Jan   1  001:00:01:15    408  5.79   33 -2.0   419  194.3  -31.8   \n",
       " 3         3  Jan   1  001:00:01:45    405  5.84   32 -2.4   415  194.3  -31.8   \n",
       " 4         3  Jan   1  001:00:02:15    408  5.43   33 -1.7   419  194.3  -31.8   \n",
       " ...      ..  ...  ..           ...    ...   ...  ...  ...   ...    ...    ...   \n",
       " 1003095   3  Dec  31  365:23:57:13    526  7.80   43 -3.8   546  192.8    4.9   \n",
       " 1003096   3  Dec  31  365:23:57:43    522  7.34   44 -3.2   542  192.8    4.9   \n",
       " 1003097   3  Dec  31  365:23:58:13    533  8.33   43 -4.0   552  192.8    4.9   \n",
       " 1003098   3  Dec  31  365:23:58:42    518  8.21   45 -3.0   541  192.8    4.9   \n",
       " 1003099   3  Dec  31  365:23:59:12    516  7.81   46  0.5   539  192.8    4.9   \n",
       " \n",
       "          GSE_Z  RANGE  HGLAT  HGLONG  CRN(E)  \n",
       " 0         15.7  145.9   -3.0   302.2    1998  \n",
       " 1         15.7  145.9   -3.0   302.2    1998  \n",
       " 2         15.7  145.9   -3.0   302.2    1998  \n",
       " 3         15.7  145.9   -3.0   302.2    1998  \n",
       " 4         15.7  145.9   -3.0   302.2    1998  \n",
       " ...        ...    ...    ...     ...     ...  \n",
       " 1003095   16.7  145.9   -2.9   164.7    2011  \n",
       " 1003096   16.7  145.9   -2.9   164.7    2011  \n",
       " 1003097   16.7  145.9   -2.9   164.7    2011  \n",
       " 1003098   16.7  145.9   -2.9   164.7    2011  \n",
       " 1003099   16.7  145.9   -2.9   164.7    2011  \n",
       " \n",
       " [1003100 rows x 16 columns],\n",
       " 2008:          YY  MON  DY  DOY:HH:MM:SS  SPEED    Np  Vth  N/S  V_He  GSE_X  GSE_Y  \\\n",
       " 0         8  Jan   1  001:00:00:27    335  6.69   22  0.8   338  212.0  101.2   \n",
       " 1         8  Jan   1  001:00:00:59    339  8.19   19 -3.7   340  212.0  101.2   \n",
       " 2         8  Jan   1  001:00:01:29    346  8.41   19 -3.4   347  212.0  101.2   \n",
       " 3         8  Jan   1  001:00:01:59    348  8.36   20 -3.4   349  212.0  101.2   \n",
       " 4         8  Jan   1  001:00:02:28    346  8.40   19 -3.5   348  212.0  101.2   \n",
       " ...      ..  ...  ..           ...    ...   ...  ...  ...   ...    ...    ...   \n",
       " 1003008   8  Dec  31  366:23:57:38    506  3.89   38 -1.4   522  224.8  100.8   \n",
       " 1003009   8  Dec  31  366:23:58:10    506  3.94   39 -1.3   523  224.8  100.8   \n",
       " 1003010   8  Dec  31  366:23:58:39    504  3.93   40 -1.3   522  224.8  100.8   \n",
       " 1003011   8  Dec  31  366:23:59:09    505  3.92   40 -1.3   523  224.8  100.8   \n",
       " 1003012   8  Dec  31  366:23:59:39    504  3.91   41 -1.3   523  224.8  100.8   \n",
       " \n",
       "          GSE_Z  RANGE  HGLAT  HGLONG  CRN(E)  \n",
       " 0         -0.4  145.7   -2.9   320.9    2065  \n",
       " 1         -0.4  145.7   -2.9   320.9    2065  \n",
       " 2         -0.4  145.7   -2.9   320.9    2065  \n",
       " 3         -0.4  145.7   -2.9   320.9    2065  \n",
       " 4         -0.4  145.7   -2.9   320.9    2065  \n",
       " ...        ...    ...    ...     ...     ...  \n",
       " 1003008   -6.7  145.7   -3.0   170.2    2078  \n",
       " 1003009   -6.7  145.7   -3.0   170.2    2078  \n",
       " 1003010   -6.7  145.7   -3.0   170.2    2078  \n",
       " 1003011   -6.7  145.7   -3.0   170.2    2078  \n",
       " 1003012   -6.7  145.7   -3.0   170.2    2078  \n",
       " \n",
       " [1003013 rows x 16 columns],\n",
       " 2013:          YY  MON  DY  DOY:HH:MM:SS  SPEED    Np  Vth  N/S  V_He  GSE_X  GSE_Y  \\\n",
       " 0        13  Jan   1  001:00:00:24    352  4.16   19 -1.4   354  257.2    2.9   \n",
       " 1        13  Jan   1  001:00:00:54    352  4.35   18 -1.5   354  257.2    2.9   \n",
       " 2        13  Jan   1  001:00:01:24    352  4.31   20 -1.4   354  257.2    2.9   \n",
       " 3        13  Jan   1  001:00:01:54    351  4.49   19 -1.7   353  257.2    2.9   \n",
       " 4        13  Jan   1  001:00:02:24    352  4.37   17 -1.7   353  257.2    2.9   \n",
       " ...      ..  ...  ..           ...    ...   ...  ...  ...   ...    ...    ...   \n",
       " 1011631  13  Dec  31  365:23:57:38    388  5.98   26 -2.6   393  256.5  -29.0   \n",
       " 1011632  13  Dec  31  365:23:58:08    389  5.96   26 -2.5   395  256.5  -29.0   \n",
       " 1011633  13  Dec  31  365:23:58:40    389  6.06   26 -2.3   394  256.5  -29.0   \n",
       " 1011634  13  Dec  31  365:23:59:10    386  5.72   25 -2.5   391  256.5  -29.0   \n",
       " 1011635  13  Dec  31  365:23:59:40    388  5.95   26 -2.6   393  256.5  -29.0   \n",
       " \n",
       "          GSE_Z  RANGE  HGLAT  HGLONG  CRN(E)  \n",
       " 0        -19.3  145.5   -3.1   327.0    2132  \n",
       " 1        -19.3  145.5   -3.1   327.0    2132  \n",
       " 2        -19.3  145.5   -3.1   327.0    2132  \n",
       " 3        -19.3  145.5   -3.1   327.0    2132  \n",
       " 4        -19.3  145.5   -3.1   327.0    2132  \n",
       " ...        ...    ...    ...     ...     ...  \n",
       " 1011631  -18.5  145.5   -3.0   189.6    2145  \n",
       " 1011632  -18.5  145.5   -3.0   189.6    2145  \n",
       " 1011633  -18.5  145.5   -3.0   189.6    2145  \n",
       " 1011634  -18.5  145.5   -3.0   189.6    2145  \n",
       " 1011635  -18.5  145.5   -3.0   189.6    2145  \n",
       " \n",
       " [1011636 rows x 16 columns],\n",
       " 2018:         YY  MON  DY  DOY:HH:MM:SS  SPEED     Np  Vth  N/S  V_He  GSE_X  GSE_Y  \\\n",
       " 0       18  Jan   1  001:00:00:19    393  13.94   27 -5.0   398  214.8 -102.8   \n",
       " 1       18  Jan   1  001:00:00:49    395  13.47   28 -5.0   401  214.8 -102.8   \n",
       " 2       18  Jan   1  001:00:01:19    395  13.84   27 -5.1   400  214.8 -102.8   \n",
       " 3       18  Jan   1  001:00:01:49    396  13.24   28 -5.1   402  214.8 -102.8   \n",
       " 4       18  Jan   1  001:00:02:19    393  13.28   27 -5.0   398  214.8 -102.8   \n",
       " ...     ..  ...  ..           ...    ...    ...  ...  ...   ...    ...    ...   \n",
       " 946366  18  Dec  31  365:23:57:23    464   3.05   32  0.5   475  206.1  -97.4   \n",
       " 946367  18  Dec  31  365:23:57:53    463   3.24   33  0.8   474  206.1  -97.4   \n",
       " 946368  18  Dec  31  365:23:58:23    460   2.59   34 -0.9   472  206.1  -97.4   \n",
       " 946369  18  Dec  31  365:23:58:53    458   2.41   34 -0.9   471  206.1  -97.4   \n",
       " 946370  18  Dec  31  365:23:59:25    454   2.19   36 -1.1   469  206.1  -97.4   \n",
       " \n",
       "         GSE_Z  RANGE  HGLAT  HGLONG  CRN(E)  \n",
       " 0        -2.6  145.7   -3.0   346.2    2199  \n",
       " 1        -2.6  145.7   -3.0   346.2    2199  \n",
       " 2        -2.6  145.7   -3.0   346.2    2199  \n",
       " 3        -2.6  145.7   -3.0   346.2    2199  \n",
       " 4        -2.6  145.7   -3.0   346.2    2199  \n",
       " ...       ...    ...    ...     ...     ...  \n",
       " 946366    3.0  145.8   -3.0   208.7    2212  \n",
       " 946367    3.0  145.8   -3.0   208.7    2212  \n",
       " 946368    3.0  145.8   -3.0   208.7    2212  \n",
       " 946369    3.0  145.8   -3.0   208.7    2212  \n",
       " 946370    3.0  145.8   -3.0   208.7    2212  \n",
       " \n",
       " [946371 rows x 16 columns],\n",
       " 2023:         YY  MON  DY  DOY:HH:MM:SS  SPEED    Np  Vth  N/S  V_He  GSE_X  GSE_Y  \\\n",
       " 0       23  Jan   1  001:00:00:21    587  2.25   40  0.5   605  192.9   18.9   \n",
       " 1       23  Jan   1  001:00:00:51    587  2.26   40 -1.4   605  192.9   18.9   \n",
       " 2       23  Jan   1  001:00:01:21    585  2.48   40 -0.2   603  192.9   18.9   \n",
       " 3       23  Jan   1  001:00:01:51    584  2.77   37  1.3   599  192.9   18.9   \n",
       " 4       23  Jan   1  001:00:02:21    589  2.73   41  1.4   608  192.9   18.9   \n",
       " ...     ..  ...  ..           ...    ...   ...  ...  ...   ...    ...    ...   \n",
       " 413005  23  May  31  151:23:57:14    405  7.03   30 -3.6   413  203.5  -74.1   \n",
       " 413006  23  May  31  151:23:57:44    406  7.05   30 -3.6   414  203.5  -74.1   \n",
       " 413007  23  May  31  151:23:58:16    406  7.06   30 -3.6   414  203.5  -74.1   \n",
       " 413008  23  May  31  151:23:58:46    408  7.18   30 -3.8   417  203.5  -74.1   \n",
       " 413009  23  May  31  151:23:59:16    407  6.88   30 -3.5   416  203.5  -74.1   \n",
       " \n",
       "         GSE_Z  RANGE  HGLAT  HGLONG  CRN(E)  \n",
       " 0        14.9  145.9   -2.9     4.9    2265  \n",
       " 1        14.9  145.9   -2.9     4.9    2265  \n",
       " 2        14.9  145.9   -2.9     4.9    2265  \n",
       " 3        14.9  145.9   -2.9     4.9    2265  \n",
       " 4        14.9  145.9   -2.9     4.9    2265  \n",
       " ...       ...    ...    ...     ...     ...  \n",
       " 413005   10.1  150.4   -0.7   173.5    2271  \n",
       " 413006   10.1  150.4   -0.7   173.5    2271  \n",
       " 413007   10.1  150.4   -0.7   173.5    2271  \n",
       " 413008   10.1  150.4   -0.7   173.5    2271  \n",
       " 413009   10.1  150.4   -0.7   173.5    2271  \n",
       " \n",
       " [413010 rows x 16 columns]}"
      ]
     },
     "execution_count": 6,
     "metadata": {},
     "output_type": "execute_result"
    }
   ],
   "source": [
    "head_row = [\"YY\",\"MON\", \"DY\",\"DOY:HH:MM:SS\",\"SPEED\",\"Np\", \"Vth\",\"N/S\",\"V_He\", \"GSE_X\",\"GSE_Y\",\"GSE_Z\",\"RANGE\",\"HGLAT\",\"HGLONG\",\"CRN(E)\"]\n",
    "\n",
    "#skip = [ i for i in range(0, 26, 1)]\n",
    "\n",
    "Raw_data = {}\n",
    "for year in years:\n",
    "  Raw_data[year] = pd.read_csv(dir(\"Raw\",year), sep=\"\\s+\")#, header=[1]), skiprows=skip\n",
    "  Raw_data[year].columns = head_row\n",
    "\n",
    "\n",
    "Raw_data"
   ]
  },
  {
   "cell_type": "markdown",
   "metadata": {},
   "source": [
    "#### Processed/ Calibrated data"
   ]
  },
  {
   "cell_type": "code",
   "execution_count": 7,
   "metadata": {},
   "outputs": [
    {
     "data": {
      "text/plain": [
       "{1998:        YY  MON  DY  DOY:HH:MM:SS  SPEED     Np  Vth  N/S  V_He  GSE_X  GSE_Y  \\\n",
       " 0      98  Jan   1  001:00:05:02    371  10.08   35 -0.8   383  232.0  -93.4   \n",
       " 1      98  Jan   1  001:00:10:03    371   9.80   35 -0.9   383  232.0  -93.4   \n",
       " 2      98  Jan   1  001:00:15:05    370   9.00   36  0.3   383  232.0  -93.4   \n",
       " 3      98  Jan   1  001:00:20:11    372   7.25   38  1.5   387  232.0  -93.4   \n",
       " 4      98  Jan   1  001:00:25:10    370   8.36   37  0.3   384  232.0  -93.4   \n",
       " ...    ..  ...  ..           ...    ...    ...  ...  ...   ...    ...    ...   \n",
       " 62155  98  Dec  21  355:17:07:38    336  15.01   24  5.6   338  233.8  -91.2   \n",
       " 62156  98  Dec  21  355:17:12:39    332  14.50   23  3.8   335  233.8  -91.2   \n",
       " 62157  98  Dec  21  355:17:17:41    334  13.97   24  3.9   337  233.8  -91.2   \n",
       " 62158  98  Dec  21  355:17:22:43    334  14.58   23  4.7   337  233.8  -91.2   \n",
       " 62159  98  Dec  21  355:17:27:46    333  13.76   23  4.9   335  233.8  -91.2   \n",
       " \n",
       "        GSE_Z  RANGE  HGLAT  HGLONG  CRN(E)  \n",
       " 0      -10.8  145.6   -3.1   283.2    1931  \n",
       " 1      -10.8  145.6   -3.1   283.2    1931  \n",
       " 2      -10.8  145.6   -3.1   283.2    1931  \n",
       " 3      -10.8  145.6   -3.1   283.2    1931  \n",
       " 4      -10.8  145.6   -3.1   283.1    1931  \n",
       " ...      ...    ...    ...     ...     ...  \n",
       " 62155  -11.4  145.7   -1.8   281.6    1944  \n",
       " 62156  -11.4  145.7   -1.8   281.6    1944  \n",
       " 62157  -11.4  145.7   -1.8   281.5    1944  \n",
       " 62158  -11.4  145.7   -1.8   281.5    1944  \n",
       " 62159  -11.4  145.7   -1.8   281.4    1944  \n",
       " \n",
       " [62160 rows x 16 columns],\n",
       " 2003:         YY  MON  DY  DOY:HH:MM:SS  SPEED    Np  Vth  N/S  V_He  GSE_X  GSE_Y  \\\n",
       " 0        3  Jan   1  001:00:05:17    404  4.94   34 -2.3   416  194.3  -31.8   \n",
       " 1        3  Jan   1  001:00:10:21    404  5.31   33 -2.6   415  194.3  -31.8   \n",
       " 2        3  Jan   1  001:00:15:22    429  3.43   38 -1.1   445  194.3  -31.7   \n",
       " 3        3  Jan   1  001:00:20:24    433  3.27   36 -1.1   447  194.3  -31.7   \n",
       " 4        3  Jan   1  001:00:25:25    430  3.21   37 -1.2   445  194.3  -31.7   \n",
       " ...     ..  ...  ..           ...    ...   ...  ...  ...   ...    ...    ...   \n",
       " 100597   3  Dec  31  365:23:34:03    552  8.19   44 -3.5   573  192.8    4.8   \n",
       " 100598   3  Dec  31  365:23:39:04    551  7.81   45  0.4   572  192.8    4.9   \n",
       " 100599   3  Dec  31  365:23:44:06    539  6.60   42 -3.2   558  192.8    4.9   \n",
       " 100600   3  Dec  31  365:23:49:09    546  5.91   44 -2.8   568  192.8    4.9   \n",
       " 100601   3  Dec  31  365:23:54:11    545  6.15   43 -3.6   565  192.8    4.9   \n",
       " \n",
       "         GSE_Z  RANGE  HGLAT  HGLONG  CRN(E)  \n",
       " 0        15.7  145.9   -3.0   302.2    1998  \n",
       " 1        15.7  145.9   -3.0   302.2    1998  \n",
       " 2        15.7  145.9   -3.0   302.1    1998  \n",
       " 3        15.7  145.9   -3.0   302.1    1998  \n",
       " 4        15.7  145.9   -3.0   302.0    1998  \n",
       " ...       ...    ...    ...     ...     ...  \n",
       " 100597   16.7  145.9   -2.9   164.9    2011  \n",
       " 100598   16.7  145.9   -2.9   164.8    2011  \n",
       " 100599   16.7  145.9   -2.9   164.8    2011  \n",
       " 100600   16.7  145.9   -2.9   164.7    2011  \n",
       " 100601   16.7  145.9   -2.9   164.7    2011  \n",
       " \n",
       " [100602 rows x 16 columns],\n",
       " 2008:         YY  MON  DY  DOY:HH:MM:SS  SPEED    Np  Vth  N/S  V_He  GSE_X  GSE_Y  \\\n",
       " 0        8  Jan   1  001:00:05:00    345  3.88   20 -2.5   347  212.0  101.2   \n",
       " 1        8  Jan   1  001:00:10:04    347  2.95   21 -0.9   350  212.0  101.2   \n",
       " 2        8  Jan   1  001:00:15:04    342  3.16   21 -1.0   345  212.0  101.2   \n",
       " 3        8  Jan   1  001:00:20:07    343  3.14   21 -1.3   346  212.0  101.2   \n",
       " 4        8  Jan   1  001:00:25:09    342  3.23   21 -1.4   345  212.0  101.2   \n",
       " ...     ..  ...  ..           ...    ...   ...  ...  ...   ...    ...    ...   \n",
       " 100429   8  Dec  31  366:23:35:31    503  2.76   39 -1.2   520  224.8  100.8   \n",
       " 100430   8  Dec  31  366:23:40:31    505  2.80   40 -1.3   523  224.8  100.8   \n",
       " 100431   8  Dec  31  366:23:45:33    508  2.83   41 -1.5   527  224.8  100.8   \n",
       " 100432   8  Dec  31  366:23:50:36    504  2.70   40 -1.3   522  224.8  100.8   \n",
       " 100433   8  Dec  31  366:23:55:38    503  2.75   39 -1.3   520  224.8  100.8   \n",
       " \n",
       "         GSE_Z  RANGE  HGLAT  HGLONG  CRN(E)  \n",
       " 0        -0.4  145.7   -2.9   321.0    2065  \n",
       " 1        -0.4  145.7   -2.9   320.9    2065  \n",
       " 2        -0.4  145.7   -2.9   320.8    2065  \n",
       " 3        -0.4  145.7   -2.9   320.8    2065  \n",
       " 4        -0.4  145.7   -2.9   320.7    2065  \n",
       " ...       ...    ...    ...     ...     ...  \n",
       " 100429   -6.7  145.7   -3.0   170.4    2078  \n",
       " 100430   -6.7  145.7   -3.0   170.4    2078  \n",
       " 100431   -6.7  145.7   -3.0   170.3    2078  \n",
       " 100432   -6.7  145.7   -3.0   170.3    2078  \n",
       " 100433   -6.7  145.7   -3.0   170.3    2078  \n",
       " \n",
       " [100434 rows x 16 columns],\n",
       " 2013:         YY  MON  DY  DOY:HH:MM:SS  SPEED    Np  Vth  N/S  V_He  GSE_X  GSE_Y  \\\n",
       " 0       13  Jan   1  001:00:04:57    348  1.69   18 -1.2   350  257.2    2.9   \n",
       " 1       13  Jan   1  001:00:09:57    349  1.57   20 -1.6   353  257.2    2.9   \n",
       " 2       13  Jan   1  001:00:15:00    349  1.50   20 -1.5   353  257.2    2.9   \n",
       " 3       13  Jan   1  001:00:20:02    349  1.47   20 -1.5   353  257.2    2.8   \n",
       " 4       13  Jan   1  001:00:25:04    350  1.42   20 -1.2   353  257.2    2.8   \n",
       " ...     ..  ...  ..           ...    ...   ...  ...  ...   ...    ...    ...   \n",
       " 101243  13  Dec  31  365:23:36:02    390  3.79   26 -3.0   396  256.5  -29.0   \n",
       " 101244  13  Dec  31  365:23:41:02    390  3.64   26 -3.0   397  256.5  -29.0   \n",
       " 101245  13  Dec  31  365:23:46:03    384  3.90   25 -2.5   390  256.5  -29.0   \n",
       " 101246  13  Dec  31  365:23:51:07    385  3.87   26 -2.9   391  256.5  -29.0   \n",
       " 101247  13  Dec  31  365:23:56:08    386  3.67   26 -2.6   392  256.5  -29.0   \n",
       " \n",
       "         GSE_Z  RANGE  HGLAT  HGLONG  CRN(E)  \n",
       " 0       -19.3  145.5   -3.1   327.0    2132  \n",
       " 1       -19.3  145.5   -3.1   326.9    2132  \n",
       " 2       -19.3  145.5   -3.1   326.9    2132  \n",
       " 3       -19.3  145.5   -3.1   326.8    2132  \n",
       " 4       -19.3  145.5   -3.1   326.7    2132  \n",
       " ...       ...    ...    ...     ...     ...  \n",
       " 101243  -18.5  145.5   -3.0   189.6    2145  \n",
       " 101244  -18.5  145.5   -3.0   189.6    2145  \n",
       " 101245  -18.5  145.5   -3.0   189.6    2145  \n",
       " 101246  -18.5  145.5   -3.0   189.6    2145  \n",
       " 101247  -18.5  145.5   -3.0   189.6    2145  \n",
       " \n",
       " [101248 rows x 16 columns],\n",
       " 2018:        YY  MON  DY  DOY:HH:MM:SS  SPEED     Np  Vth  N/S  V_He  GSE_X  GSE_Y  \\\n",
       " 0      18  Jan   1  001:00:04:51    364  14.09   26 -4.7   368  214.8 -102.8   \n",
       " 1      18  Jan   1  001:00:09:53    365  13.64   25 -4.5   369  214.8 -102.8   \n",
       " 2      18  Jan   1  001:00:14:56    368  13.98   26 -4.6   372  214.8 -102.8   \n",
       " 3      18  Jan   1  001:00:19:58    366  14.75   26 -4.8   370  214.8 -102.8   \n",
       " 4      18  Jan   1  001:00:25:02    370  14.67   27 -4.7   375  214.8 -102.8   \n",
       " ...    ..  ...  ..           ...    ...    ...  ...  ...   ...    ...    ...   \n",
       " 94639  18  Dec  31  365:23:35:13    430   2.21   37 -1.1   445  206.1  -97.5   \n",
       " 94640  18  Dec  31  365:23:40:16    429   2.27   37 -1.0   445  206.1  -97.5   \n",
       " 94641  18  Dec  31  365:23:45:18    427   2.31   38 -1.1   443  206.1  -97.4   \n",
       " 94642  18  Dec  31  365:23:50:22    420   2.51   37 -1.2   436  206.1  -97.4   \n",
       " 94643  18  Dec  31  365:23:55:21    428   2.44   34 -0.1   441  206.1  -97.4   \n",
       " \n",
       "        GSE_Z  RANGE  HGLAT  HGLONG  CRN(E)  \n",
       " 0       -2.6  145.7   -3.0   346.2    2199  \n",
       " 1       -2.6  145.7   -3.0   346.1    2199  \n",
       " 2       -2.6  145.7   -3.0   346.1    2199  \n",
       " 3       -2.6  145.7   -3.0   346.0    2199  \n",
       " 4       -2.6  145.7   -3.0   345.9    2199  \n",
       " ...      ...    ...    ...     ...     ...  \n",
       " 94639    3.0  145.8   -3.0   208.8    2212  \n",
       " 94640    3.0  145.8   -3.0   208.8    2212  \n",
       " 94641    3.0  145.8   -3.0   208.7    2212  \n",
       " 94642    3.0  145.8   -3.0   208.7    2212  \n",
       " 94643    3.0  145.8   -3.0   208.7    2212  \n",
       " \n",
       " [94644 rows x 16 columns],\n",
       " 2023:        YY  MON  DY  DOY:HH:MM:SS  SPEED    Np  Vth  N/S  V_He  GSE_X  GSE_Y  \\\n",
       " 0      23  Jan   1  001:00:04:53    588  2.83   39 -0.7   605  192.9   18.9   \n",
       " 1      23  Jan   1  001:00:09:57    585  2.32   40 -0.5   603  192.9   18.9   \n",
       " 2      23  Jan   1  001:00:14:57    596  1.64   44 -2.0   619  192.9   18.9   \n",
       " 3      23  Jan   1  001:00:20:00    662  1.88   48 -5.1   690  192.9   18.9   \n",
       " 4      23  Jan   1  001:00:25:02    588  1.75   44 -0.7   611  192.9   18.9   \n",
       " ...    ..  ...  ..           ...    ...   ...  ...  ...   ...    ...    ...   \n",
       " 41660  23  Jun   8  159:23:35:14    334  6.16   19  1.7   336  201.3  -51.3   \n",
       " 41661  23  Jun   8  159:23:40:18    331  6.02   19  0.8   332  201.3  -51.2   \n",
       " 41662  23  Jun   8  159:23:45:20    332  5.69   19 -0.9   333  201.3  -51.2   \n",
       " 41663  23  Jun   8  159:23:50:21    332  5.83   19 -0.9   334  201.3  -51.2   \n",
       " 41664  23  Jun   8  159:23:55:27    332  6.30   19 -2.5   334  201.3  -51.2   \n",
       " \n",
       "        GSE_Z  RANGE  HGLAT  HGLONG  CRN(E)  \n",
       " 0       14.9  145.9   -2.9     4.9    2265  \n",
       " 1       14.9  145.9   -2.9     4.9    2265  \n",
       " 2       14.9  145.9   -2.9     4.8    2265  \n",
       " 3       14.9  145.9   -2.9     4.6    2265  \n",
       " 4       14.9  145.9   -2.9     4.6    2265  \n",
       " ...      ...    ...    ...     ...     ...  \n",
       " 41660   13.3  150.6    0.3    67.8    2271  \n",
       " 41661   13.3  150.6    0.3    67.7    2271  \n",
       " 41662   13.3  150.6    0.3    67.7    2271  \n",
       " 41663   13.3  150.6    0.3    67.6    2271  \n",
       " 41664   13.3  150.6    0.3    67.6    2271  \n",
       " \n",
       " [41665 rows x 16 columns]}"
      ]
     },
     "execution_count": 7,
     "metadata": {},
     "output_type": "execute_result"
    }
   ],
   "source": [
    "head_row = [\"YY\",\"MON\", \"DY\",\"DOY:HH:MM:SS\",\"SPEED\",\"Np\", \"Vth\",\"N/S\",\"V_He\", \"GSE_X\",\"GSE_Y\",\"GSE_Z\",\"RANGE\",\"HGLAT\",\"HGLONG\",\"CRN(E)\"]\n",
    "\n",
    "Calibrated_data = {}\n",
    "for year in years:\n",
    "  Calibrated_data[year] = pd.read_csv(dir(\"Calibrated\",year), sep=\"\\s+\")\n",
    "  Calibrated_data[year].columns = head_row\n",
    "\n",
    "\n",
    "Calibrated_data"
   ]
  },
  {
   "cell_type": "markdown",
   "metadata": {},
   "source": [
    "## **Data Analysis**"
   ]
  },
  {
   "cell_type": "code",
   "execution_count": 8,
   "metadata": {},
   "outputs": [],
   "source": [
    "#### Time\n",
    "def sec(yy, doy_hh_mm_ss, initial): #Function for obtain total seconds\n",
    "    # Convert string to datetime format\n",
    "    datofeo = [\"0\", \"3\", \"8\"]\n",
    "    if str(yy) not in datofeo:\n",
    "      date = datetime.strptime(str(yy) +\":\" + str(doy_hh_mm_ss), '%y:%j:%H:%M:%S')\n",
    "    else:\n",
    "      date = datetime.strptime(\"0\" + str(yy) +\":\" + str(doy_hh_mm_ss), '%y:%j:%H:%M:%S')\n",
    "\n",
    "    # Calculate the difference from the reference datetime\n",
    "    timedelta = date - datetime(1900, 1, 1)\n",
    "\n",
    "    # Total seconds\n",
    "    seconds = timedelta.total_seconds() - 3092601600 # - 98 years and 24 days\n",
    "\n",
    "    return seconds #Return float of the total seconds\n",
    "\n",
    "def Seconds_data(data, initial):\n",
    "  time_sec = data['DOY:HH:MM:SS'] # Rename time col for simplicity\n",
    "  year = data[\"YY\"]\n",
    "  seconds_time = [sec(year[i], time_sec[i], initial) for i in range(0, len(time_sec), 1)] # Obtain each total seconds in all dataframe\n",
    "  data.insert(4,\"Seconds\",seconds_time) # Insert total seconds to dataframe"
   ]
  },
  {
   "cell_type": "code",
   "execution_count": 9,
   "metadata": {},
   "outputs": [],
   "source": [
    "Secondszeroraw = 0\n",
    "Secondszerocalibrated = 0\n",
    "for year in years:\n",
    "  Seconds_data(Raw_data[year], Secondszeroraw)\n",
    "  Seconds_data(Calibrated_data[year], Secondszerocalibrated)\n",
    "  #Secondszeroraw += Raw_data[year][\"Seconds\"][len(Raw_data[year])-1]\n",
    "  #Secondszerocalibrated += Calibrated_data[year][\"Seconds\"][len(Calibrated_data[year])-1]"
   ]
  },
  {
   "cell_type": "code",
   "execution_count": 10,
   "metadata": {},
   "outputs": [
    {
     "data": {
      "text/plain": [
       "'\\n# Concat all data (WARNING: High spend of RAM memory)\\n\\nRaw = []\\nRaw = pd.concat(Raw_data, axis = 0)\\nRaw\\n\\n# Concat all data (WARNING: High spend of RAM memory)\\n\\nCalibrated = []\\nCalibrated = pd.concat(Calibrated_data, axis = 0)\\nCalibrated\\n\\n'"
      ]
     },
     "execution_count": 10,
     "metadata": {},
     "output_type": "execute_result"
    }
   ],
   "source": [
    "\"\"\"\n",
    "# Concat all data (WARNING: High spend of RAM memory)\n",
    "\n",
    "Raw = []\n",
    "Raw = pd.concat(Raw_data, axis = 0)\n",
    "Raw\n",
    "\n",
    "# Concat all data (WARNING: High spend of RAM memory)\n",
    "\n",
    "Calibrated = []\n",
    "Calibrated = pd.concat(Calibrated_data, axis = 0)\n",
    "Calibrated\n",
    "\n",
    "\"\"\""
   ]
  },
  {
   "cell_type": "markdown",
   "metadata": {},
   "source": [
    "## **Create Files**"
   ]
  },
  {
   "cell_type": "code",
   "execution_count": 11,
   "metadata": {},
   "outputs": [
    {
     "name": "stdout",
     "output_type": "stream",
     "text": [
      "Directorio Data\\Raw_converter ya existe\n",
      "Directorio Data\\Processing_converter ya existe\n"
     ]
    }
   ],
   "source": [
    "# Create folders\n",
    "path_raw = 'Data\\Raw_converter'\n",
    "path_calibrated = 'Data\\Processing_converter'\n",
    "\n",
    "paths = [path_raw, path_calibrated]\n",
    "\n",
    "for path in paths:\n",
    "   if not os.path.exists(path):\n",
    "     os.mkdir(path)\n",
    "     print(\"Directorio %s creado!\" % path)\n",
    "   else:\n",
    "     print(\"Directorio %s ya existe\" % path)"
   ]
  },
  {
   "cell_type": "code",
   "execution_count": 12,
   "metadata": {},
   "outputs": [],
   "source": [
    "# Create .parquet files\n",
    "for year in years:\n",
    "  #Calibrated_data[year].to_csv(f'Data\\Processing_converter\\{year}.csv')\n",
    "  #Raw_data[year].to_csv(f'Data\\Raw_converter\\{year}.csv')\n",
    "  Calibrated_data[year].to_parquet(f'Data\\Processing_converter\\{year}.parquet', compression='gzip')\n",
    "  Raw_data[year].to_parquet(f'Data\\Raw_converter\\{year}.parquet', compression='gzip')\n",
    "  #h = pd.read_csv(\"2023.csv\")\n",
    "  #h.drop(columns = [\"Unnamed: 0\"])"
   ]
  }
 ],
 "metadata": {
  "kernelspec": {
   "display_name": "Python 3",
   "language": "python",
   "name": "python3"
  },
  "language_info": {
   "codemirror_mode": {
    "name": "ipython",
    "version": 3
   },
   "file_extension": ".py",
   "mimetype": "text/x-python",
   "name": "python",
   "nbconvert_exporter": "python",
   "pygments_lexer": "ipython3",
   "version": "3.11.9"
  }
 },
 "nbformat": 4,
 "nbformat_minor": 2
}
